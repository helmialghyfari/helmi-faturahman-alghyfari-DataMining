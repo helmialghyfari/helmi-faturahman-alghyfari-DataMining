{
  "nbformat": 4,
  "nbformat_minor": 0,
  "metadata": {
    "colab": {
      "provenance": []
    },
    "kernelspec": {
      "name": "python3",
      "display_name": "Python 3"
    },
    "language_info": {
      "name": "python"
    }
  },
  "cells": [
    {
      "cell_type": "markdown",
      "source": [],
      "metadata": {
        "id": "REUnOMTv5CFQ"
      }
    },
    {
      "cell_type": "code",
      "execution_count": 1,
      "metadata": {
        "colab": {
          "base_uri": "https://localhost:8080/",
          "height": 658
        },
        "id": "QeN4-AbN4-Ww",
        "outputId": "b24dff8a-62f8-4f63-8505-565e58a56c6a"
      },
      "outputs": [
        {
          "output_type": "display_data",
          "data": {
            "text/plain": [
              "<IPython.core.display.HTML object>"
            ],
            "text/html": [
              "\n",
              "     <input type=\"file\" id=\"files-f43ed9ce-b62d-4c63-9f4d-74a50531f626\" name=\"files[]\" multiple disabled\n",
              "        style=\"border:none\" />\n",
              "     <output id=\"result-f43ed9ce-b62d-4c63-9f4d-74a50531f626\">\n",
              "      Upload widget is only available when the cell has been executed in the\n",
              "      current browser session. Please rerun this cell to enable.\n",
              "      </output>\n",
              "      <script>// Copyright 2017 Google LLC\n",
              "//\n",
              "// Licensed under the Apache License, Version 2.0 (the \"License\");\n",
              "// you may not use this file except in compliance with the License.\n",
              "// You may obtain a copy of the License at\n",
              "//\n",
              "//      http://www.apache.org/licenses/LICENSE-2.0\n",
              "//\n",
              "// Unless required by applicable law or agreed to in writing, software\n",
              "// distributed under the License is distributed on an \"AS IS\" BASIS,\n",
              "// WITHOUT WARRANTIES OR CONDITIONS OF ANY KIND, either express or implied.\n",
              "// See the License for the specific language governing permissions and\n",
              "// limitations under the License.\n",
              "\n",
              "/**\n",
              " * @fileoverview Helpers for google.colab Python module.\n",
              " */\n",
              "(function(scope) {\n",
              "function span(text, styleAttributes = {}) {\n",
              "  const element = document.createElement('span');\n",
              "  element.textContent = text;\n",
              "  for (const key of Object.keys(styleAttributes)) {\n",
              "    element.style[key] = styleAttributes[key];\n",
              "  }\n",
              "  return element;\n",
              "}\n",
              "\n",
              "// Max number of bytes which will be uploaded at a time.\n",
              "const MAX_PAYLOAD_SIZE = 100 * 1024;\n",
              "\n",
              "function _uploadFiles(inputId, outputId) {\n",
              "  const steps = uploadFilesStep(inputId, outputId);\n",
              "  const outputElement = document.getElementById(outputId);\n",
              "  // Cache steps on the outputElement to make it available for the next call\n",
              "  // to uploadFilesContinue from Python.\n",
              "  outputElement.steps = steps;\n",
              "\n",
              "  return _uploadFilesContinue(outputId);\n",
              "}\n",
              "\n",
              "// This is roughly an async generator (not supported in the browser yet),\n",
              "// where there are multiple asynchronous steps and the Python side is going\n",
              "// to poll for completion of each step.\n",
              "// This uses a Promise to block the python side on completion of each step,\n",
              "// then passes the result of the previous step as the input to the next step.\n",
              "function _uploadFilesContinue(outputId) {\n",
              "  const outputElement = document.getElementById(outputId);\n",
              "  const steps = outputElement.steps;\n",
              "\n",
              "  const next = steps.next(outputElement.lastPromiseValue);\n",
              "  return Promise.resolve(next.value.promise).then((value) => {\n",
              "    // Cache the last promise value to make it available to the next\n",
              "    // step of the generator.\n",
              "    outputElement.lastPromiseValue = value;\n",
              "    return next.value.response;\n",
              "  });\n",
              "}\n",
              "\n",
              "/**\n",
              " * Generator function which is called between each async step of the upload\n",
              " * process.\n",
              " * @param {string} inputId Element ID of the input file picker element.\n",
              " * @param {string} outputId Element ID of the output display.\n",
              " * @return {!Iterable<!Object>} Iterable of next steps.\n",
              " */\n",
              "function* uploadFilesStep(inputId, outputId) {\n",
              "  const inputElement = document.getElementById(inputId);\n",
              "  inputElement.disabled = false;\n",
              "\n",
              "  const outputElement = document.getElementById(outputId);\n",
              "  outputElement.innerHTML = '';\n",
              "\n",
              "  const pickedPromise = new Promise((resolve) => {\n",
              "    inputElement.addEventListener('change', (e) => {\n",
              "      resolve(e.target.files);\n",
              "    });\n",
              "  });\n",
              "\n",
              "  const cancel = document.createElement('button');\n",
              "  inputElement.parentElement.appendChild(cancel);\n",
              "  cancel.textContent = 'Cancel upload';\n",
              "  const cancelPromise = new Promise((resolve) => {\n",
              "    cancel.onclick = () => {\n",
              "      resolve(null);\n",
              "    };\n",
              "  });\n",
              "\n",
              "  // Wait for the user to pick the files.\n",
              "  const files = yield {\n",
              "    promise: Promise.race([pickedPromise, cancelPromise]),\n",
              "    response: {\n",
              "      action: 'starting',\n",
              "    }\n",
              "  };\n",
              "\n",
              "  cancel.remove();\n",
              "\n",
              "  // Disable the input element since further picks are not allowed.\n",
              "  inputElement.disabled = true;\n",
              "\n",
              "  if (!files) {\n",
              "    return {\n",
              "      response: {\n",
              "        action: 'complete',\n",
              "      }\n",
              "    };\n",
              "  }\n",
              "\n",
              "  for (const file of files) {\n",
              "    const li = document.createElement('li');\n",
              "    li.append(span(file.name, {fontWeight: 'bold'}));\n",
              "    li.append(span(\n",
              "        `(${file.type || 'n/a'}) - ${file.size} bytes, ` +\n",
              "        `last modified: ${\n",
              "            file.lastModifiedDate ? file.lastModifiedDate.toLocaleDateString() :\n",
              "                                    'n/a'} - `));\n",
              "    const percent = span('0% done');\n",
              "    li.appendChild(percent);\n",
              "\n",
              "    outputElement.appendChild(li);\n",
              "\n",
              "    const fileDataPromise = new Promise((resolve) => {\n",
              "      const reader = new FileReader();\n",
              "      reader.onload = (e) => {\n",
              "        resolve(e.target.result);\n",
              "      };\n",
              "      reader.readAsArrayBuffer(file);\n",
              "    });\n",
              "    // Wait for the data to be ready.\n",
              "    let fileData = yield {\n",
              "      promise: fileDataPromise,\n",
              "      response: {\n",
              "        action: 'continue',\n",
              "      }\n",
              "    };\n",
              "\n",
              "    // Use a chunked sending to avoid message size limits. See b/62115660.\n",
              "    let position = 0;\n",
              "    do {\n",
              "      const length = Math.min(fileData.byteLength - position, MAX_PAYLOAD_SIZE);\n",
              "      const chunk = new Uint8Array(fileData, position, length);\n",
              "      position += length;\n",
              "\n",
              "      const base64 = btoa(String.fromCharCode.apply(null, chunk));\n",
              "      yield {\n",
              "        response: {\n",
              "          action: 'append',\n",
              "          file: file.name,\n",
              "          data: base64,\n",
              "        },\n",
              "      };\n",
              "\n",
              "      let percentDone = fileData.byteLength === 0 ?\n",
              "          100 :\n",
              "          Math.round((position / fileData.byteLength) * 100);\n",
              "      percent.textContent = `${percentDone}% done`;\n",
              "\n",
              "    } while (position < fileData.byteLength);\n",
              "  }\n",
              "\n",
              "  // All done.\n",
              "  yield {\n",
              "    response: {\n",
              "      action: 'complete',\n",
              "    }\n",
              "  };\n",
              "}\n",
              "\n",
              "scope.google = scope.google || {};\n",
              "scope.google.colab = scope.google.colab || {};\n",
              "scope.google.colab._files = {\n",
              "  _uploadFiles,\n",
              "  _uploadFilesContinue,\n",
              "};\n",
              "})(self);\n",
              "</script> "
            ]
          },
          "metadata": {}
        },
        {
          "output_type": "stream",
          "name": "stdout",
          "text": [
            "Saving Datasets Superstore.xlsx to Datasets Superstore.xlsx\n"
          ]
        },
        {
          "output_type": "execute_result",
          "data": {
            "text/plain": [
              "   Row ID        Order ID Order Date  Year     Month  Day       Ship Mode  \\\n",
              "0       1  CA-2016-152156 2016-11-08  2016  November    8    Second Class   \n",
              "1       2  CA-2016-152156 2016-11-08  2016  November    8    Second Class   \n",
              "2       3  CA-2016-138688 2016-06-12  2016      Juni   12    Second Class   \n",
              "3       4  US-2015-108966 2015-10-11  2015   Oktober   11  Standard Class   \n",
              "4       5  US-2015-108966 2015-10-11  2015   Oktober   11  Standard Class   \n",
              "\n",
              "  Customer ID    Customer Name    Segment  ... Postal Code Region  \\\n",
              "0    CG-12520      Claire Gute   Consumer  ...       42420  South   \n",
              "1    CG-12520      Claire Gute   Consumer  ...       42420  South   \n",
              "2    DV-13045  Darrin Van Huff  Corporate  ...       90036   West   \n",
              "3    SO-20335   Sean O'Donnell   Consumer  ...       33311  South   \n",
              "4    SO-20335   Sean O'Donnell   Consumer  ...       33311  South   \n",
              "\n",
              "        Product ID         Category Sub-Category  \\\n",
              "0  FUR-BO-10001798        Furniture    Bookcases   \n",
              "1  FUR-CH-10000454        Furniture       Chairs   \n",
              "2  OFF-LA-10000240  Office Supplies       Labels   \n",
              "3  FUR-TA-10000577        Furniture       Tables   \n",
              "4  OFF-ST-10000760  Office Supplies      Storage   \n",
              "\n",
              "                                        Product Name     Sales Quantity  \\\n",
              "0                  Bush Somerset Collection Bookcase  261.9600        2   \n",
              "1  Hon Deluxe Fabric Upholstered Stacking Chairs,...  731.9400        3   \n",
              "2  Self-Adhesive Address Labels for Typewriters b...   14.6200        2   \n",
              "3      Bretford CR4500 Series Slim Rectangular Table  957.5775        5   \n",
              "4                     Eldon Fold 'N Roll Cart System   22.3680        2   \n",
              "\n",
              "  Discount    Profit  \n",
              "0     0.00   41.9136  \n",
              "1     0.00  219.5820  \n",
              "2     0.00    6.8714  \n",
              "3     0.45 -383.0310  \n",
              "4     0.20    2.5164  \n",
              "\n",
              "[5 rows x 23 columns]"
            ],
            "text/html": [
              "\n",
              "  <div id=\"df-532f1446-bc9a-4e7c-a2b2-06232e46f802\" class=\"colab-df-container\">\n",
              "    <div>\n",
              "<style scoped>\n",
              "    .dataframe tbody tr th:only-of-type {\n",
              "        vertical-align: middle;\n",
              "    }\n",
              "\n",
              "    .dataframe tbody tr th {\n",
              "        vertical-align: top;\n",
              "    }\n",
              "\n",
              "    .dataframe thead th {\n",
              "        text-align: right;\n",
              "    }\n",
              "</style>\n",
              "<table border=\"1\" class=\"dataframe\">\n",
              "  <thead>\n",
              "    <tr style=\"text-align: right;\">\n",
              "      <th></th>\n",
              "      <th>Row ID</th>\n",
              "      <th>Order ID</th>\n",
              "      <th>Order Date</th>\n",
              "      <th>Year</th>\n",
              "      <th>Month</th>\n",
              "      <th>Day</th>\n",
              "      <th>Ship Mode</th>\n",
              "      <th>Customer ID</th>\n",
              "      <th>Customer Name</th>\n",
              "      <th>Segment</th>\n",
              "      <th>...</th>\n",
              "      <th>Postal Code</th>\n",
              "      <th>Region</th>\n",
              "      <th>Product ID</th>\n",
              "      <th>Category</th>\n",
              "      <th>Sub-Category</th>\n",
              "      <th>Product Name</th>\n",
              "      <th>Sales</th>\n",
              "      <th>Quantity</th>\n",
              "      <th>Discount</th>\n",
              "      <th>Profit</th>\n",
              "    </tr>\n",
              "  </thead>\n",
              "  <tbody>\n",
              "    <tr>\n",
              "      <th>0</th>\n",
              "      <td>1</td>\n",
              "      <td>CA-2016-152156</td>\n",
              "      <td>2016-11-08</td>\n",
              "      <td>2016</td>\n",
              "      <td>November</td>\n",
              "      <td>8</td>\n",
              "      <td>Second Class</td>\n",
              "      <td>CG-12520</td>\n",
              "      <td>Claire Gute</td>\n",
              "      <td>Consumer</td>\n",
              "      <td>...</td>\n",
              "      <td>42420</td>\n",
              "      <td>South</td>\n",
              "      <td>FUR-BO-10001798</td>\n",
              "      <td>Furniture</td>\n",
              "      <td>Bookcases</td>\n",
              "      <td>Bush Somerset Collection Bookcase</td>\n",
              "      <td>261.9600</td>\n",
              "      <td>2</td>\n",
              "      <td>0.00</td>\n",
              "      <td>41.9136</td>\n",
              "    </tr>\n",
              "    <tr>\n",
              "      <th>1</th>\n",
              "      <td>2</td>\n",
              "      <td>CA-2016-152156</td>\n",
              "      <td>2016-11-08</td>\n",
              "      <td>2016</td>\n",
              "      <td>November</td>\n",
              "      <td>8</td>\n",
              "      <td>Second Class</td>\n",
              "      <td>CG-12520</td>\n",
              "      <td>Claire Gute</td>\n",
              "      <td>Consumer</td>\n",
              "      <td>...</td>\n",
              "      <td>42420</td>\n",
              "      <td>South</td>\n",
              "      <td>FUR-CH-10000454</td>\n",
              "      <td>Furniture</td>\n",
              "      <td>Chairs</td>\n",
              "      <td>Hon Deluxe Fabric Upholstered Stacking Chairs,...</td>\n",
              "      <td>731.9400</td>\n",
              "      <td>3</td>\n",
              "      <td>0.00</td>\n",
              "      <td>219.5820</td>\n",
              "    </tr>\n",
              "    <tr>\n",
              "      <th>2</th>\n",
              "      <td>3</td>\n",
              "      <td>CA-2016-138688</td>\n",
              "      <td>2016-06-12</td>\n",
              "      <td>2016</td>\n",
              "      <td>Juni</td>\n",
              "      <td>12</td>\n",
              "      <td>Second Class</td>\n",
              "      <td>DV-13045</td>\n",
              "      <td>Darrin Van Huff</td>\n",
              "      <td>Corporate</td>\n",
              "      <td>...</td>\n",
              "      <td>90036</td>\n",
              "      <td>West</td>\n",
              "      <td>OFF-LA-10000240</td>\n",
              "      <td>Office Supplies</td>\n",
              "      <td>Labels</td>\n",
              "      <td>Self-Adhesive Address Labels for Typewriters b...</td>\n",
              "      <td>14.6200</td>\n",
              "      <td>2</td>\n",
              "      <td>0.00</td>\n",
              "      <td>6.8714</td>\n",
              "    </tr>\n",
              "    <tr>\n",
              "      <th>3</th>\n",
              "      <td>4</td>\n",
              "      <td>US-2015-108966</td>\n",
              "      <td>2015-10-11</td>\n",
              "      <td>2015</td>\n",
              "      <td>Oktober</td>\n",
              "      <td>11</td>\n",
              "      <td>Standard Class</td>\n",
              "      <td>SO-20335</td>\n",
              "      <td>Sean O'Donnell</td>\n",
              "      <td>Consumer</td>\n",
              "      <td>...</td>\n",
              "      <td>33311</td>\n",
              "      <td>South</td>\n",
              "      <td>FUR-TA-10000577</td>\n",
              "      <td>Furniture</td>\n",
              "      <td>Tables</td>\n",
              "      <td>Bretford CR4500 Series Slim Rectangular Table</td>\n",
              "      <td>957.5775</td>\n",
              "      <td>5</td>\n",
              "      <td>0.45</td>\n",
              "      <td>-383.0310</td>\n",
              "    </tr>\n",
              "    <tr>\n",
              "      <th>4</th>\n",
              "      <td>5</td>\n",
              "      <td>US-2015-108966</td>\n",
              "      <td>2015-10-11</td>\n",
              "      <td>2015</td>\n",
              "      <td>Oktober</td>\n",
              "      <td>11</td>\n",
              "      <td>Standard Class</td>\n",
              "      <td>SO-20335</td>\n",
              "      <td>Sean O'Donnell</td>\n",
              "      <td>Consumer</td>\n",
              "      <td>...</td>\n",
              "      <td>33311</td>\n",
              "      <td>South</td>\n",
              "      <td>OFF-ST-10000760</td>\n",
              "      <td>Office Supplies</td>\n",
              "      <td>Storage</td>\n",
              "      <td>Eldon Fold 'N Roll Cart System</td>\n",
              "      <td>22.3680</td>\n",
              "      <td>2</td>\n",
              "      <td>0.20</td>\n",
              "      <td>2.5164</td>\n",
              "    </tr>\n",
              "  </tbody>\n",
              "</table>\n",
              "<p>5 rows × 23 columns</p>\n",
              "</div>\n",
              "    <div class=\"colab-df-buttons\">\n",
              "\n",
              "  <div class=\"colab-df-container\">\n",
              "    <button class=\"colab-df-convert\" onclick=\"convertToInteractive('df-532f1446-bc9a-4e7c-a2b2-06232e46f802')\"\n",
              "            title=\"Convert this dataframe to an interactive table.\"\n",
              "            style=\"display:none;\">\n",
              "\n",
              "  <svg xmlns=\"http://www.w3.org/2000/svg\" height=\"24px\" viewBox=\"0 -960 960 960\">\n",
              "    <path d=\"M120-120v-720h720v720H120Zm60-500h600v-160H180v160Zm220 220h160v-160H400v160Zm0 220h160v-160H400v160ZM180-400h160v-160H180v160Zm440 0h160v-160H620v160ZM180-180h160v-160H180v160Zm440 0h160v-160H620v160Z\"/>\n",
              "  </svg>\n",
              "    </button>\n",
              "\n",
              "  <style>\n",
              "    .colab-df-container {\n",
              "      display:flex;\n",
              "      gap: 12px;\n",
              "    }\n",
              "\n",
              "    .colab-df-convert {\n",
              "      background-color: #E8F0FE;\n",
              "      border: none;\n",
              "      border-radius: 50%;\n",
              "      cursor: pointer;\n",
              "      display: none;\n",
              "      fill: #1967D2;\n",
              "      height: 32px;\n",
              "      padding: 0 0 0 0;\n",
              "      width: 32px;\n",
              "    }\n",
              "\n",
              "    .colab-df-convert:hover {\n",
              "      background-color: #E2EBFA;\n",
              "      box-shadow: 0px 1px 2px rgba(60, 64, 67, 0.3), 0px 1px 3px 1px rgba(60, 64, 67, 0.15);\n",
              "      fill: #174EA6;\n",
              "    }\n",
              "\n",
              "    .colab-df-buttons div {\n",
              "      margin-bottom: 4px;\n",
              "    }\n",
              "\n",
              "    [theme=dark] .colab-df-convert {\n",
              "      background-color: #3B4455;\n",
              "      fill: #D2E3FC;\n",
              "    }\n",
              "\n",
              "    [theme=dark] .colab-df-convert:hover {\n",
              "      background-color: #434B5C;\n",
              "      box-shadow: 0px 1px 3px 1px rgba(0, 0, 0, 0.15);\n",
              "      filter: drop-shadow(0px 1px 2px rgba(0, 0, 0, 0.3));\n",
              "      fill: #FFFFFF;\n",
              "    }\n",
              "  </style>\n",
              "\n",
              "    <script>\n",
              "      const buttonEl =\n",
              "        document.querySelector('#df-532f1446-bc9a-4e7c-a2b2-06232e46f802 button.colab-df-convert');\n",
              "      buttonEl.style.display =\n",
              "        google.colab.kernel.accessAllowed ? 'block' : 'none';\n",
              "\n",
              "      async function convertToInteractive(key) {\n",
              "        const element = document.querySelector('#df-532f1446-bc9a-4e7c-a2b2-06232e46f802');\n",
              "        const dataTable =\n",
              "          await google.colab.kernel.invokeFunction('convertToInteractive',\n",
              "                                                    [key], {});\n",
              "        if (!dataTable) return;\n",
              "\n",
              "        const docLinkHtml = 'Like what you see? Visit the ' +\n",
              "          '<a target=\"_blank\" href=https://colab.research.google.com/notebooks/data_table.ipynb>data table notebook</a>'\n",
              "          + ' to learn more about interactive tables.';\n",
              "        element.innerHTML = '';\n",
              "        dataTable['output_type'] = 'display_data';\n",
              "        await google.colab.output.renderOutput(dataTable, element);\n",
              "        const docLink = document.createElement('div');\n",
              "        docLink.innerHTML = docLinkHtml;\n",
              "        element.appendChild(docLink);\n",
              "      }\n",
              "    </script>\n",
              "  </div>\n",
              "\n",
              "\n",
              "    <div id=\"df-3298a78d-c144-4053-b134-3d05daf7cceb\">\n",
              "      <button class=\"colab-df-quickchart\" onclick=\"quickchart('df-3298a78d-c144-4053-b134-3d05daf7cceb')\"\n",
              "                title=\"Suggest charts\"\n",
              "                style=\"display:none;\">\n",
              "\n",
              "<svg xmlns=\"http://www.w3.org/2000/svg\" height=\"24px\"viewBox=\"0 0 24 24\"\n",
              "     width=\"24px\">\n",
              "    <g>\n",
              "        <path d=\"M19 3H5c-1.1 0-2 .9-2 2v14c0 1.1.9 2 2 2h14c1.1 0 2-.9 2-2V5c0-1.1-.9-2-2-2zM9 17H7v-7h2v7zm4 0h-2V7h2v10zm4 0h-2v-4h2v4z\"/>\n",
              "    </g>\n",
              "</svg>\n",
              "      </button>\n",
              "\n",
              "<style>\n",
              "  .colab-df-quickchart {\n",
              "      --bg-color: #E8F0FE;\n",
              "      --fill-color: #1967D2;\n",
              "      --hover-bg-color: #E2EBFA;\n",
              "      --hover-fill-color: #174EA6;\n",
              "      --disabled-fill-color: #AAA;\n",
              "      --disabled-bg-color: #DDD;\n",
              "  }\n",
              "\n",
              "  [theme=dark] .colab-df-quickchart {\n",
              "      --bg-color: #3B4455;\n",
              "      --fill-color: #D2E3FC;\n",
              "      --hover-bg-color: #434B5C;\n",
              "      --hover-fill-color: #FFFFFF;\n",
              "      --disabled-bg-color: #3B4455;\n",
              "      --disabled-fill-color: #666;\n",
              "  }\n",
              "\n",
              "  .colab-df-quickchart {\n",
              "    background-color: var(--bg-color);\n",
              "    border: none;\n",
              "    border-radius: 50%;\n",
              "    cursor: pointer;\n",
              "    display: none;\n",
              "    fill: var(--fill-color);\n",
              "    height: 32px;\n",
              "    padding: 0;\n",
              "    width: 32px;\n",
              "  }\n",
              "\n",
              "  .colab-df-quickchart:hover {\n",
              "    background-color: var(--hover-bg-color);\n",
              "    box-shadow: 0 1px 2px rgba(60, 64, 67, 0.3), 0 1px 3px 1px rgba(60, 64, 67, 0.15);\n",
              "    fill: var(--button-hover-fill-color);\n",
              "  }\n",
              "\n",
              "  .colab-df-quickchart-complete:disabled,\n",
              "  .colab-df-quickchart-complete:disabled:hover {\n",
              "    background-color: var(--disabled-bg-color);\n",
              "    fill: var(--disabled-fill-color);\n",
              "    box-shadow: none;\n",
              "  }\n",
              "\n",
              "  .colab-df-spinner {\n",
              "    border: 2px solid var(--fill-color);\n",
              "    border-color: transparent;\n",
              "    border-bottom-color: var(--fill-color);\n",
              "    animation:\n",
              "      spin 1s steps(1) infinite;\n",
              "  }\n",
              "\n",
              "  @keyframes spin {\n",
              "    0% {\n",
              "      border-color: transparent;\n",
              "      border-bottom-color: var(--fill-color);\n",
              "      border-left-color: var(--fill-color);\n",
              "    }\n",
              "    20% {\n",
              "      border-color: transparent;\n",
              "      border-left-color: var(--fill-color);\n",
              "      border-top-color: var(--fill-color);\n",
              "    }\n",
              "    30% {\n",
              "      border-color: transparent;\n",
              "      border-left-color: var(--fill-color);\n",
              "      border-top-color: var(--fill-color);\n",
              "      border-right-color: var(--fill-color);\n",
              "    }\n",
              "    40% {\n",
              "      border-color: transparent;\n",
              "      border-right-color: var(--fill-color);\n",
              "      border-top-color: var(--fill-color);\n",
              "    }\n",
              "    60% {\n",
              "      border-color: transparent;\n",
              "      border-right-color: var(--fill-color);\n",
              "    }\n",
              "    80% {\n",
              "      border-color: transparent;\n",
              "      border-right-color: var(--fill-color);\n",
              "      border-bottom-color: var(--fill-color);\n",
              "    }\n",
              "    90% {\n",
              "      border-color: transparent;\n",
              "      border-bottom-color: var(--fill-color);\n",
              "    }\n",
              "  }\n",
              "</style>\n",
              "\n",
              "      <script>\n",
              "        async function quickchart(key) {\n",
              "          const quickchartButtonEl =\n",
              "            document.querySelector('#' + key + ' button');\n",
              "          quickchartButtonEl.disabled = true;  // To prevent multiple clicks.\n",
              "          quickchartButtonEl.classList.add('colab-df-spinner');\n",
              "          try {\n",
              "            const charts = await google.colab.kernel.invokeFunction(\n",
              "                'suggestCharts', [key], {});\n",
              "          } catch (error) {\n",
              "            console.error('Error during call to suggestCharts:', error);\n",
              "          }\n",
              "          quickchartButtonEl.classList.remove('colab-df-spinner');\n",
              "          quickchartButtonEl.classList.add('colab-df-quickchart-complete');\n",
              "        }\n",
              "        (() => {\n",
              "          let quickchartButtonEl =\n",
              "            document.querySelector('#df-3298a78d-c144-4053-b134-3d05daf7cceb button');\n",
              "          quickchartButtonEl.style.display =\n",
              "            google.colab.kernel.accessAllowed ? 'block' : 'none';\n",
              "        })();\n",
              "      </script>\n",
              "    </div>\n",
              "\n",
              "    </div>\n",
              "  </div>\n"
            ],
            "application/vnd.google.colaboratory.intrinsic+json": {
              "type": "dataframe",
              "variable_name": "df"
            }
          },
          "metadata": {},
          "execution_count": 1
        }
      ],
      "source": [
        "import pandas as pd\n",
        "from google.colab import files\n",
        "uploaded = files.upload()\n",
        "df = pd.read_excel(\"Datasets Superstore.xlsx\")\n",
        "df.head()"
      ]
    },
    {
      "cell_type": "code",
      "source": [
        "import seaborn as sns\n",
        "import matplotlib.pyplot as plt\n",
        "\n",
        "df.groupby('Category')['Sales'].sum().plot(kind='bar', title='Penjualan per Kategori')\n",
        "plt.ylabel('Total Sales')\n",
        "plt.show()\n",
        "\n",
        "sns.scatterplot(data=df, x='Discount', y='Profit')\n",
        "plt.title('Diskon vs Profit')\n",
        "plt.show()"
      ],
      "metadata": {
        "colab": {
          "base_uri": "https://localhost:8080/",
          "height": 1000
        },
        "id": "XzkMVTpP6sRm",
        "outputId": "e653b81e-de17-4941-9ebd-fef3f02cdc7a"
      },
      "execution_count": 3,
      "outputs": [
        {
          "output_type": "display_data",
          "data": {
            "text/plain": [
              "<Figure size 640x480 with 1 Axes>"
            ],
            "image/png": "[encoded data removed]"
          },
          "metadata": {}
        },
        {
          "output_type": "display_data",
          "data": {
            "text/plain": [
              "<Figure size 640x480 with 1 Axes>"
            ],
            "image/png": "[encoded data removed]"
          },
          "metadata": {}
        }
      ]
    },
    {
      "cell_type": "code",
      "source": [
        "from sklearn.tree import DecisionTreeClassifier\n",
        "from sklearn.model_selection import train_test_split\n",
        "from sklearn.metrics import classification_report, confusion_matrix\n",
        "\n",
        "df['Label'] = df['Profit'].apply(lambda x: 1 if x > 0 else 0)\n",
        "features = df[['Sales', 'Discount', 'Quantity']].fillna(0)\n",
        "labels = df['Label']\n",
        "\n",
        "X_train, X_test, y_train, y_test = train_test_split(features, labels, test_size=0.3, random_state=42)\n",
        "model = DecisionTreeClassifier()\n",
        "model.fit(X_train, y_train)\n",
        "y_pred = model.predict(X_test)\n",
        "\n",
        "print(\"Classification Report:\\n\", classification_report(y_test, y_pred))\n",
        "print(\"Confusion Matrix:\\n\", confusion_matrix(y_test, y_pred))"
      ],
      "metadata": {
        "colab": {
          "base_uri": "https://localhost:8080/"
        },
        "id": "g6-UTiTh60vQ",
        "outputId": "19a201a8-412f-4f21-af94-3f869feaa762"
      },
      "execution_count": 4,
      "outputs": [
        {
          "output_type": "stream",
          "name": "stdout",
          "text": [
            "Classification Report:\n",
            "               precision    recall  f1-score   support\n",
            "\n",
            "           0       0.83      0.81      0.82       547\n",
            "           1       0.96      0.96      0.96      2452\n",
            "\n",
            "    accuracy                           0.93      2999\n",
            "   macro avg       0.89      0.89      0.89      2999\n",
            "weighted avg       0.93      0.93      0.93      2999\n",
            "\n",
            "Confusion Matrix:\n",
            " [[ 442  105]\n",
            " [  93 2359]]\n"
          ]
        }
      ]
    },
    {
      "cell_type": "markdown",
      "source": [
        "1.immport library yang dibutuhkan"
      ],
      "metadata": {
        "id": "A5DS-8I3B-uL"
      }
    },
    {
      "cell_type": "code",
      "source": [
        "import numpy as np\n",
        "import pandas as pd\n",
        "import matplotlib.pyplot as plt\n",
        "import seaborn as sns\n",
        "from sklearn.datasets import load_iris\n",
        "from sklearn.model_selection import train_test_split\n",
        "from sklearn.preprocessing import StandardScaler\n",
        "from sklearn.neighbors import KNeighborsClassifier\n",
        "from sklearn.metrics import classification_report, confusion_matrix, accuracy_score\n",
        "print (df.head())"
      ],
      "metadata": {
        "colab": {
          "base_uri": "https://localhost:8080/"
        },
        "id": "e83lCZ0xCNCQ",
        "outputId": "3386986d-f330-4b8a-e8bf-92294ad98289"
      },
      "execution_count": 12,
      "outputs": [
        {
          "output_type": "stream",
          "name": "stdout",
          "text": [
            "   Row ID        Order ID Order Date  Year     Month  Day       Ship Mode  \\\n",
            "0       1  CA-2016-152156 2016-11-08  2016  November    8    Second Class   \n",
            "1       2  CA-2016-152156 2016-11-08  2016  November    8    Second Class   \n",
            "2       3  CA-2016-138688 2016-06-12  2016      Juni   12    Second Class   \n",
            "3       4  US-2015-108966 2015-10-11  2015   Oktober   11  Standard Class   \n",
            "4       5  US-2015-108966 2015-10-11  2015   Oktober   11  Standard Class   \n",
            "\n",
            "  Customer ID    Customer Name    Segment  ... Region       Product ID  \\\n",
            "0    CG-12520      Claire Gute   Consumer  ...  South  FUR-BO-10001798   \n",
            "1    CG-12520      Claire Gute   Consumer  ...  South  FUR-CH-10000454   \n",
            "2    DV-13045  Darrin Van Huff  Corporate  ...   West  OFF-LA-10000240   \n",
            "3    SO-20335   Sean O'Donnell   Consumer  ...  South  FUR-TA-10000577   \n",
            "4    SO-20335   Sean O'Donnell   Consumer  ...  South  OFF-ST-10000760   \n",
            "\n",
            "          Category  Sub-Category  \\\n",
            "0        Furniture     Bookcases   \n",
            "1        Furniture        Chairs   \n",
            "2  Office Supplies        Labels   \n",
            "3        Furniture        Tables   \n",
            "4  Office Supplies       Storage   \n",
            "\n",
            "                                        Product Name     Sales Quantity  \\\n",
            "0                  Bush Somerset Collection Bookcase  261.9600        2   \n",
            "1  Hon Deluxe Fabric Upholstered Stacking Chairs,...  731.9400        3   \n",
            "2  Self-Adhesive Address Labels for Typewriters b...   14.6200        2   \n",
            "3      Bretford CR4500 Series Slim Rectangular Table  957.5775        5   \n",
            "4                     Eldon Fold 'N Roll Cart System   22.3680        2   \n",
            "\n",
            "  Discount    Profit  Label  \n",
            "0     0.00   41.9136      1  \n",
            "1     0.00  219.5820      1  \n",
            "2     0.00    6.8714      1  \n",
            "3     0.45 -383.0310      0  \n",
            "4     0.20    2.5164      1  \n",
            "\n",
            "[5 rows x 24 columns]\n"
          ]
        }
      ]
    },
    {
      "cell_type": "markdown",
      "source": [
        "2.load dataset irish"
      ],
      "metadata": {
        "id": "zbwAEKFoCkHn"
      }
    },
    {
      "cell_type": "code",
      "source": [
        "iris = load_iris()\n",
        "X = iris.data\n",
        "y = iris.target\n",
        "print (df.head())"
      ],
      "metadata": {
        "colab": {
          "base_uri": "https://localhost:8080/"
        },
        "id": "NmBo1LHdCpih",
        "outputId": "04fb0312-5eac-4bdb-f0b3-d6069be12b1f"
      },
      "execution_count": 13,
      "outputs": [
        {
          "output_type": "stream",
          "name": "stdout",
          "text": [
            "   Row ID        Order ID Order Date  Year     Month  Day       Ship Mode  \\\n",
            "0       1  CA-2016-152156 2016-11-08  2016  November    8    Second Class   \n",
            "1       2  CA-2016-152156 2016-11-08  2016  November    8    Second Class   \n",
            "2       3  CA-2016-138688 2016-06-12  2016      Juni   12    Second Class   \n",
            "3       4  US-2015-108966 2015-10-11  2015   Oktober   11  Standard Class   \n",
            "4       5  US-2015-108966 2015-10-11  2015   Oktober   11  Standard Class   \n",
            "\n",
            "  Customer ID    Customer Name    Segment  ... Region       Product ID  \\\n",
            "0    CG-12520      Claire Gute   Consumer  ...  South  FUR-BO-10001798   \n",
            "1    CG-12520      Claire Gute   Consumer  ...  South  FUR-CH-10000454   \n",
            "2    DV-13045  Darrin Van Huff  Corporate  ...   West  OFF-LA-10000240   \n",
            "3    SO-20335   Sean O'Donnell   Consumer  ...  South  FUR-TA-10000577   \n",
            "4    SO-20335   Sean O'Donnell   Consumer  ...  South  OFF-ST-10000760   \n",
            "\n",
            "          Category  Sub-Category  \\\n",
            "0        Furniture     Bookcases   \n",
            "1        Furniture        Chairs   \n",
            "2  Office Supplies        Labels   \n",
            "3        Furniture        Tables   \n",
            "4  Office Supplies       Storage   \n",
            "\n",
            "                                        Product Name     Sales Quantity  \\\n",
            "0                  Bush Somerset Collection Bookcase  261.9600        2   \n",
            "1  Hon Deluxe Fabric Upholstered Stacking Chairs,...  731.9400        3   \n",
            "2  Self-Adhesive Address Labels for Typewriters b...   14.6200        2   \n",
            "3      Bretford CR4500 Series Slim Rectangular Table  957.5775        5   \n",
            "4                     Eldon Fold 'N Roll Cart System   22.3680        2   \n",
            "\n",
            "  Discount    Profit  Label  \n",
            "0     0.00   41.9136      1  \n",
            "1     0.00  219.5820      1  \n",
            "2     0.00    6.8714      1  \n",
            "3     0.45 -383.0310      0  \n",
            "4     0.20    2.5164      1  \n",
            "\n",
            "[5 rows x 24 columns]\n"
          ]
        }
      ]
    },
    {
      "cell_type": "markdown",
      "source": [
        "3.Membagi dataset menjadi data latih dan data uji"
      ],
      "metadata": {
        "id": "Qnx5OGpyCwd2"
      }
    },
    {
      "cell_type": "code",
      "source": [
        "X_train, X_test, y_train, y_test = train_test_split(X, y, test_size=0.2, random_state=42)\n",
        "print (df.head())"
      ],
      "metadata": {
        "colab": {
          "base_uri": "https://localhost:8080/"
        },
        "id": "yShCnhroCxSM",
        "outputId": "cf084fdf-701a-433e-d59d-1715513db557"
      },
      "execution_count": 14,
      "outputs": [
        {
          "output_type": "stream",
          "name": "stdout",
          "text": [
            "   Row ID        Order ID Order Date  Year     Month  Day       Ship Mode  \\\n",
            "0       1  CA-2016-152156 2016-11-08  2016  November    8    Second Class   \n",
            "1       2  CA-2016-152156 2016-11-08  2016  November    8    Second Class   \n",
            "2       3  CA-2016-138688 2016-06-12  2016      Juni   12    Second Class   \n",
            "3       4  US-2015-108966 2015-10-11  2015   Oktober   11  Standard Class   \n",
            "4       5  US-2015-108966 2015-10-11  2015   Oktober   11  Standard Class   \n",
            "\n",
            "  Customer ID    Customer Name    Segment  ... Region       Product ID  \\\n",
            "0    CG-12520      Claire Gute   Consumer  ...  South  FUR-BO-10001798   \n",
            "1    CG-12520      Claire Gute   Consumer  ...  South  FUR-CH-10000454   \n",
            "2    DV-13045  Darrin Van Huff  Corporate  ...   West  OFF-LA-10000240   \n",
            "3    SO-20335   Sean O'Donnell   Consumer  ...  South  FUR-TA-10000577   \n",
            "4    SO-20335   Sean O'Donnell   Consumer  ...  South  OFF-ST-10000760   \n",
            "\n",
            "          Category  Sub-Category  \\\n",
            "0        Furniture     Bookcases   \n",
            "1        Furniture        Chairs   \n",
            "2  Office Supplies        Labels   \n",
            "3        Furniture        Tables   \n",
            "4  Office Supplies       Storage   \n",
            "\n",
            "                                        Product Name     Sales Quantity  \\\n",
            "0                  Bush Somerset Collection Bookcase  261.9600        2   \n",
            "1  Hon Deluxe Fabric Upholstered Stacking Chairs,...  731.9400        3   \n",
            "2  Self-Adhesive Address Labels for Typewriters b...   14.6200        2   \n",
            "3      Bretford CR4500 Series Slim Rectangular Table  957.5775        5   \n",
            "4                     Eldon Fold 'N Roll Cart System   22.3680        2   \n",
            "\n",
            "  Discount    Profit  Label  \n",
            "0     0.00   41.9136      1  \n",
            "1     0.00  219.5820      1  \n",
            "2     0.00    6.8714      1  \n",
            "3     0.45 -383.0310      0  \n",
            "4     0.20    2.5164      1  \n",
            "\n",
            "[5 rows x 24 columns]\n"
          ]
        }
      ]
    },
    {
      "cell_type": "markdown",
      "source": [
        "4.normalisasi fitur"
      ],
      "metadata": {
        "id": "spjUYYBBC3xk"
      }
    },
    {
      "cell_type": "code",
      "source": [
        "scaler = StandardScaler()\n",
        "X_train = scaler.fit_transform(X_train)\n",
        "X_test = scaler.transform(X_test)\n",
        "print (df.head())"
      ],
      "metadata": {
        "colab": {
          "base_uri": "https://localhost:8080/"
        },
        "id": "LK0_ONeyC7FR",
        "outputId": "cbe2d9dc-ff7c-4395-d18a-037bcded4893"
      },
      "execution_count": 15,
      "outputs": [
        {
          "output_type": "stream",
          "name": "stdout",
          "text": [
            "   Row ID        Order ID Order Date  Year     Month  Day       Ship Mode  \\\n",
            "0       1  CA-2016-152156 2016-11-08  2016  November    8    Second Class   \n",
            "1       2  CA-2016-152156 2016-11-08  2016  November    8    Second Class   \n",
            "2       3  CA-2016-138688 2016-06-12  2016      Juni   12    Second Class   \n",
            "3       4  US-2015-108966 2015-10-11  2015   Oktober   11  Standard Class   \n",
            "4       5  US-2015-108966 2015-10-11  2015   Oktober   11  Standard Class   \n",
            "\n",
            "  Customer ID    Customer Name    Segment  ... Region       Product ID  \\\n",
            "0    CG-12520      Claire Gute   Consumer  ...  South  FUR-BO-10001798   \n",
            "1    CG-12520      Claire Gute   Consumer  ...  South  FUR-CH-10000454   \n",
            "2    DV-13045  Darrin Van Huff  Corporate  ...   West  OFF-LA-10000240   \n",
            "3    SO-20335   Sean O'Donnell   Consumer  ...  South  FUR-TA-10000577   \n",
            "4    SO-20335   Sean O'Donnell   Consumer  ...  South  OFF-ST-10000760   \n",
            "\n",
            "          Category  Sub-Category  \\\n",
            "0        Furniture     Bookcases   \n",
            "1        Furniture        Chairs   \n",
            "2  Office Supplies        Labels   \n",
            "3        Furniture        Tables   \n",
            "4  Office Supplies       Storage   \n",
            "\n",
            "                                        Product Name     Sales Quantity  \\\n",
            "0                  Bush Somerset Collection Bookcase  261.9600        2   \n",
            "1  Hon Deluxe Fabric Upholstered Stacking Chairs,...  731.9400        3   \n",
            "2  Self-Adhesive Address Labels for Typewriters b...   14.6200        2   \n",
            "3      Bretford CR4500 Series Slim Rectangular Table  957.5775        5   \n",
            "4                     Eldon Fold 'N Roll Cart System   22.3680        2   \n",
            "\n",
            "  Discount    Profit  Label  \n",
            "0     0.00   41.9136      1  \n",
            "1     0.00  219.5820      1  \n",
            "2     0.00    6.8714      1  \n",
            "3     0.45 -383.0310      0  \n",
            "4     0.20    2.5164      1  \n",
            "\n",
            "[5 rows x 24 columns]\n"
          ]
        }
      ]
    },
    {
      "cell_type": "markdown",
      "source": [
        "5.membuat dan melatih kode KNN"
      ],
      "metadata": {
        "id": "cTjd7ayDC-8N"
      }
    },
    {
      "cell_type": "code",
      "source": [
        "knn = KNeighborsClassifier(n_neighbors=3)\n",
        "knn.fit(X_train, y_train)\n",
        "print (df.head())"
      ],
      "metadata": {
        "colab": {
          "base_uri": "https://localhost:8080/"
        },
        "id": "bvaDtlKADFvj",
        "outputId": "ece0868c-6bf0-41ed-8586-61508b5bcdc1"
      },
      "execution_count": 16,
      "outputs": [
        {
          "output_type": "stream",
          "name": "stdout",
          "text": [
            "   Row ID        Order ID Order Date  Year     Month  Day       Ship Mode  \\\n",
            "0       1  CA-2016-152156 2016-11-08  2016  November    8    Second Class   \n",
            "1       2  CA-2016-152156 2016-11-08  2016  November    8    Second Class   \n",
            "2       3  CA-2016-138688 2016-06-12  2016      Juni   12    Second Class   \n",
            "3       4  US-2015-108966 2015-10-11  2015   Oktober   11  Standard Class   \n",
            "4       5  US-2015-108966 2015-10-11  2015   Oktober   11  Standard Class   \n",
            "\n",
            "  Customer ID    Customer Name    Segment  ... Region       Product ID  \\\n",
            "0    CG-12520      Claire Gute   Consumer  ...  South  FUR-BO-10001798   \n",
            "1    CG-12520      Claire Gute   Consumer  ...  South  FUR-CH-10000454   \n",
            "2    DV-13045  Darrin Van Huff  Corporate  ...   West  OFF-LA-10000240   \n",
            "3    SO-20335   Sean O'Donnell   Consumer  ...  South  FUR-TA-10000577   \n",
            "4    SO-20335   Sean O'Donnell   Consumer  ...  South  OFF-ST-10000760   \n",
            "\n",
            "          Category  Sub-Category  \\\n",
            "0        Furniture     Bookcases   \n",
            "1        Furniture        Chairs   \n",
            "2  Office Supplies        Labels   \n",
            "3        Furniture        Tables   \n",
            "4  Office Supplies       Storage   \n",
            "\n",
            "                                        Product Name     Sales Quantity  \\\n",
            "0                  Bush Somerset Collection Bookcase  261.9600        2   \n",
            "1  Hon Deluxe Fabric Upholstered Stacking Chairs,...  731.9400        3   \n",
            "2  Self-Adhesive Address Labels for Typewriters b...   14.6200        2   \n",
            "3      Bretford CR4500 Series Slim Rectangular Table  957.5775        5   \n",
            "4                     Eldon Fold 'N Roll Cart System   22.3680        2   \n",
            "\n",
            "  Discount    Profit  Label  \n",
            "0     0.00   41.9136      1  \n",
            "1     0.00  219.5820      1  \n",
            "2     0.00    6.8714      1  \n",
            "3     0.45 -383.0310      0  \n",
            "4     0.20    2.5164      1  \n",
            "\n",
            "[5 rows x 24 columns]\n"
          ]
        }
      ]
    },
    {
      "cell_type": "markdown",
      "source": [
        "6.melakukan prediksi"
      ],
      "metadata": {
        "id": "dXnferyZDHdN"
      }
    },
    {
      "cell_type": "code",
      "source": [
        "y_pred = knn.predict(X_test)\n",
        "print (df.head())"
      ],
      "metadata": {
        "colab": {
          "base_uri": "https://localhost:8080/"
        },
        "id": "HSLVC06TDMyi",
        "outputId": "84927047-7054-46f6-d508-db8a4792bb51"
      },
      "execution_count": 17,
      "outputs": [
        {
          "output_type": "stream",
          "name": "stdout",
          "text": [
            "   Row ID        Order ID Order Date  Year     Month  Day       Ship Mode  \\\n",
            "0       1  CA-2016-152156 2016-11-08  2016  November    8    Second Class   \n",
            "1       2  CA-2016-152156 2016-11-08  2016  November    8    Second Class   \n",
            "2       3  CA-2016-138688 2016-06-12  2016      Juni   12    Second Class   \n",
            "3       4  US-2015-108966 2015-10-11  2015   Oktober   11  Standard Class   \n",
            "4       5  US-2015-108966 2015-10-11  2015   Oktober   11  Standard Class   \n",
            "\n",
            "  Customer ID    Customer Name    Segment  ... Region       Product ID  \\\n",
            "0    CG-12520      Claire Gute   Consumer  ...  South  FUR-BO-10001798   \n",
            "1    CG-12520      Claire Gute   Consumer  ...  South  FUR-CH-10000454   \n",
            "2    DV-13045  Darrin Van Huff  Corporate  ...   West  OFF-LA-10000240   \n",
            "3    SO-20335   Sean O'Donnell   Consumer  ...  South  FUR-TA-10000577   \n",
            "4    SO-20335   Sean O'Donnell   Consumer  ...  South  OFF-ST-10000760   \n",
            "\n",
            "          Category  Sub-Category  \\\n",
            "0        Furniture     Bookcases   \n",
            "1        Furniture        Chairs   \n",
            "2  Office Supplies        Labels   \n",
            "3        Furniture        Tables   \n",
            "4  Office Supplies       Storage   \n",
            "\n",
            "                                        Product Name     Sales Quantity  \\\n",
            "0                  Bush Somerset Collection Bookcase  261.9600        2   \n",
            "1  Hon Deluxe Fabric Upholstered Stacking Chairs,...  731.9400        3   \n",
            "2  Self-Adhesive Address Labels for Typewriters b...   14.6200        2   \n",
            "3      Bretford CR4500 Series Slim Rectangular Table  957.5775        5   \n",
            "4                     Eldon Fold 'N Roll Cart System   22.3680        2   \n",
            "\n",
            "  Discount    Profit  Label  \n",
            "0     0.00   41.9136      1  \n",
            "1     0.00  219.5820      1  \n",
            "2     0.00    6.8714      1  \n",
            "3     0.45 -383.0310      0  \n",
            "4     0.20    2.5164      1  \n",
            "\n",
            "[5 rows x 24 columns]\n"
          ]
        }
      ]
    },
    {
      "cell_type": "markdown",
      "source": [
        "7.evaluasi hasil prediksi"
      ],
      "metadata": {
        "id": "N675xaScDUNB"
      }
    },
    {
      "cell_type": "code",
      "source": [
        "print(\"Akurasi:\", accuracy_score(y_test, y_pred))\n",
        "print(\"\\nConfusion Matrix:\\n\", confusion_matrix(y_test, y_pred))\n",
        "print(\"\\nClassification Report:\\n\", classification_report(y_test, y_pred))\n",
        "print (df.head())"
      ],
      "metadata": {
        "colab": {
          "base_uri": "https://localhost:8080/"
        },
        "id": "Fwm3jE_ADWfz",
        "outputId": "f2c06dbc-89e7-4b5a-d3d6-2d5f8dee0139"
      },
      "execution_count": 18,
      "outputs": [
        {
          "output_type": "stream",
          "name": "stdout",
          "text": [
            "Akurasi: 1.0\n",
            "\n",
            "Confusion Matrix:\n",
            " [[10  0  0]\n",
            " [ 0  9  0]\n",
            " [ 0  0 11]]\n",
            "\n",
            "Classification Report:\n",
            "               precision    recall  f1-score   support\n",
            "\n",
            "           0       1.00      1.00      1.00        10\n",
            "           1       1.00      1.00      1.00         9\n",
            "           2       1.00      1.00      1.00        11\n",
            "\n",
            "    accuracy                           1.00        30\n",
            "   macro avg       1.00      1.00      1.00        30\n",
            "weighted avg       1.00      1.00      1.00        30\n",
            "\n",
            "   Row ID        Order ID Order Date  Year     Month  Day       Ship Mode  \\\n",
            "0       1  CA-2016-152156 2016-11-08  2016  November    8    Second Class   \n",
            "1       2  CA-2016-152156 2016-11-08  2016  November    8    Second Class   \n",
            "2       3  CA-2016-138688 2016-06-12  2016      Juni   12    Second Class   \n",
            "3       4  US-2015-108966 2015-10-11  2015   Oktober   11  Standard Class   \n",
            "4       5  US-2015-108966 2015-10-11  2015   Oktober   11  Standard Class   \n",
            "\n",
            "  Customer ID    Customer Name    Segment  ... Region       Product ID  \\\n",
            "0    CG-12520      Claire Gute   Consumer  ...  South  FUR-BO-10001798   \n",
            "1    CG-12520      Claire Gute   Consumer  ...  South  FUR-CH-10000454   \n",
            "2    DV-13045  Darrin Van Huff  Corporate  ...   West  OFF-LA-10000240   \n",
            "3    SO-20335   Sean O'Donnell   Consumer  ...  South  FUR-TA-10000577   \n",
            "4    SO-20335   Sean O'Donnell   Consumer  ...  South  OFF-ST-10000760   \n",
            "\n",
            "          Category  Sub-Category  \\\n",
            "0        Furniture     Bookcases   \n",
            "1        Furniture        Chairs   \n",
            "2  Office Supplies        Labels   \n",
            "3        Furniture        Tables   \n",
            "4  Office Supplies       Storage   \n",
            "\n",
            "                                        Product Name     Sales Quantity  \\\n",
            "0                  Bush Somerset Collection Bookcase  261.9600        2   \n",
            "1  Hon Deluxe Fabric Upholstered Stacking Chairs,...  731.9400        3   \n",
            "2  Self-Adhesive Address Labels for Typewriters b...   14.6200        2   \n",
            "3      Bretford CR4500 Series Slim Rectangular Table  957.5775        5   \n",
            "4                     Eldon Fold 'N Roll Cart System   22.3680        2   \n",
            "\n",
            "  Discount    Profit  Label  \n",
            "0     0.00   41.9136      1  \n",
            "1     0.00  219.5820      1  \n",
            "2     0.00    6.8714      1  \n",
            "3     0.45 -383.0310      0  \n",
            "4     0.20    2.5164      1  \n",
            "\n",
            "[5 rows x 24 columns]\n"
          ]
        }
      ]
    },
    {
      "cell_type": "markdown",
      "source": [
        "8.Visualisasi Confusion Matrix"
      ],
      "metadata": {
        "id": "T5u3FHj8ElJL"
      }
    },
    {
      "cell_type": "code",
      "source": [
        "plt.figure(figsize=(6,4))\n",
        "sns.heatmap(confusion_matrix(y_test, y_pred), annot=True, cmap='Blues', fmt='g')\n",
        "plt.title('Confusion Matrix')\n",
        "plt.xlabel('Predicted')\n",
        "plt.ylabel('Actual')\n",
        "plt.show()\n",
        "print (df.head())"
      ],
      "metadata": {
        "colab": {
          "base_uri": "https://localhost:8080/",
          "height": 1000
        },
        "id": "229gldebEmjR",
        "outputId": "572afee1-65f7-4ef8-bd1b-be4f39515ae5"
      },
      "execution_count": 20,
      "outputs": [
        {
          "output_type": "display_data",
          "data": {
            "text/plain": [
              "<Figure size 600x400 with 2 Axes>"
            ],
            "image/png": "[encoded data removed]"
          },
          "metadata": {}
        },
        {
          "output_type": "stream",
          "name": "stdout",
          "text": [
            "   Row ID        Order ID Order Date  Year     Month  Day       Ship Mode  \\\n",
            "0       1  CA-2016-152156 2016-11-08  2016  November    8    Second Class   \n",
            "1       2  CA-2016-152156 2016-11-08  2016  November    8    Second Class   \n",
            "2       3  CA-2016-138688 2016-06-12  2016      Juni   12    Second Class   \n",
            "3       4  US-2015-108966 2015-10-11  2015   Oktober   11  Standard Class   \n",
            "4       5  US-2015-108966 2015-10-11  2015   Oktober   11  Standard Class   \n",
            "\n",
            "  Customer ID    Customer Name    Segment  ... Region       Product ID  \\\n",
            "0    CG-12520      Claire Gute   Consumer  ...  South  FUR-BO-10001798   \n",
            "1    CG-12520      Claire Gute   Consumer  ...  South  FUR-CH-10000454   \n",
            "2    DV-13045  Darrin Van Huff  Corporate  ...   West  OFF-LA-10000240   \n",
            "3    SO-20335   Sean O'Donnell   Consumer  ...  South  FUR-TA-10000577   \n",
            "4    SO-20335   Sean O'Donnell   Consumer  ...  South  OFF-ST-10000760   \n",
            "\n",
            "          Category  Sub-Category  \\\n",
            "0        Furniture     Bookcases   \n",
            "1        Furniture        Chairs   \n",
            "2  Office Supplies        Labels   \n",
            "3        Furniture        Tables   \n",
            "4  Office Supplies       Storage   \n",
            "\n",
            "                                        Product Name     Sales Quantity  \\\n",
            "0                  Bush Somerset Collection Bookcase  261.9600        2   \n",
            "1  Hon Deluxe Fabric Upholstered Stacking Chairs,...  731.9400        3   \n",
            "2  Self-Adhesive Address Labels for Typewriters b...   14.6200        2   \n",
            "3      Bretford CR4500 Series Slim Rectangular Table  957.5775        5   \n",
            "4                     Eldon Fold 'N Roll Cart System   22.3680        2   \n",
            "\n",
            "  Discount    Profit  Label  \n",
            "0     0.00   41.9136      1  \n",
            "1     0.00  219.5820      1  \n",
            "2     0.00    6.8714      1  \n",
            "3     0.45 -383.0310      0  \n",
            "4     0.20    2.5164      1  \n",
            "\n",
            "[5 rows x 24 columns]\n"
          ]
        }
      ]
    },
    {
      "cell_type": "markdown",
      "source": [
        "1.import library"
      ],
      "metadata": {
        "id": "NO8JXGNXOYOW"
      }
    },
    {
      "cell_type": "code",
      "source": [
        "import pandas as pd\n",
        "from sklearn.model_selection import train_test_split\n",
        "from sklearn.preprocessing import LabelEncoder, StandardScaler\n",
        "from sklearn.svm import SVC\n",
        "from sklearn.metrics import classification_report, accuracy_score\n",
        "print (df.head())"
      ],
      "metadata": {
        "colab": {
          "base_uri": "https://localhost:8080/"
        },
        "id": "w2zw6Do_MK-2",
        "outputId": "7c98c4b9-4f4b-4380-bb11-6664b62ef8d3"
      },
      "execution_count": 43,
      "outputs": [
        {
          "output_type": "stream",
          "name": "stdout",
          "text": [
            "   Row ID        Order ID Order Date  Year     Month  Day       Ship Mode  \\\n",
            "0       1  CA-2016-152156 2016-11-08  2016  November    8    Second Class   \n",
            "1       2  CA-2016-152156 2016-11-08  2016  November    8    Second Class   \n",
            "2       3  CA-2016-138688 2016-06-12  2016      Juni   12    Second Class   \n",
            "3       4  US-2015-108966 2015-10-11  2015   Oktober   11  Standard Class   \n",
            "4       5  US-2015-108966 2015-10-11  2015   Oktober   11  Standard Class   \n",
            "\n",
            "  Customer ID    Customer Name    Segment  ... Postal Code Region  \\\n",
            "0    CG-12520      Claire Gute   Consumer  ...       42420  South   \n",
            "1    CG-12520      Claire Gute   Consumer  ...       42420  South   \n",
            "2    DV-13045  Darrin Van Huff  Corporate  ...       90036   West   \n",
            "3    SO-20335   Sean O'Donnell   Consumer  ...       33311  South   \n",
            "4    SO-20335   Sean O'Donnell   Consumer  ...       33311  South   \n",
            "\n",
            "        Product ID         Category Sub-Category  \\\n",
            "0  FUR-BO-10001798        Furniture    Bookcases   \n",
            "1  FUR-CH-10000454        Furniture       Chairs   \n",
            "2  OFF-LA-10000240  Office Supplies       Labels   \n",
            "3  FUR-TA-10000577        Furniture       Tables   \n",
            "4  OFF-ST-10000760  Office Supplies      Storage   \n",
            "\n",
            "                                        Product Name     Sales Quantity  \\\n",
            "0                  Bush Somerset Collection Bookcase  261.9600        2   \n",
            "1  Hon Deluxe Fabric Upholstered Stacking Chairs,...  731.9400        3   \n",
            "2  Self-Adhesive Address Labels for Typewriters b...   14.6200        2   \n",
            "3      Bretford CR4500 Series Slim Rectangular Table  957.5775        5   \n",
            "4                     Eldon Fold 'N Roll Cart System   22.3680        2   \n",
            "\n",
            "  Discount    Profit  \n",
            "0     0.00   41.9136  \n",
            "1     0.00  219.5820  \n",
            "2     0.00    6.8714  \n",
            "3     0.45 -383.0310  \n",
            "4     0.20    2.5164  \n",
            "\n",
            "[5 rows x 23 columns]\n"
          ]
        }
      ]
    },
    {
      "cell_type": "markdown",
      "source": [
        "2.load data"
      ],
      "metadata": {
        "id": "3A9gxjD2MaIm"
      }
    },
    {
      "cell_type": "code",
      "source": [
        "print(df.head())\n",
        "print(df.columns)\n"
      ],
      "metadata": {
        "colab": {
          "base_uri": "https://localhost:8080/"
        },
        "id": "FkbEGjURMfw2",
        "outputId": "7de67d1a-8442-4a25-ffb8-9893acc3f449"
      },
      "execution_count": 47,
      "outputs": [
        {
          "output_type": "stream",
          "name": "stdout",
          "text": [
            "   Row ID        Order ID Order Date  Year     Month  Day       Ship Mode  \\\n",
            "0       1  CA-2016-152156 2016-11-08  2016  November    8    Second Class   \n",
            "1       2  CA-2016-152156 2016-11-08  2016  November    8    Second Class   \n",
            "2       3  CA-2016-138688 2016-06-12  2016      Juni   12    Second Class   \n",
            "3       4  US-2015-108966 2015-10-11  2015   Oktober   11  Standard Class   \n",
            "4       5  US-2015-108966 2015-10-11  2015   Oktober   11  Standard Class   \n",
            "\n",
            "  Customer ID    Customer Name    Segment  ... Postal Code Region  \\\n",
            "0    CG-12520      Claire Gute   Consumer  ...       42420  South   \n",
            "1    CG-12520      Claire Gute   Consumer  ...       42420  South   \n",
            "2    DV-13045  Darrin Van Huff  Corporate  ...       90036   West   \n",
            "3    SO-20335   Sean O'Donnell   Consumer  ...       33311  South   \n",
            "4    SO-20335   Sean O'Donnell   Consumer  ...       33311  South   \n",
            "\n",
            "        Product ID         Category Sub-Category  \\\n",
            "0  FUR-BO-10001798        Furniture    Bookcases   \n",
            "1  FUR-CH-10000454        Furniture       Chairs   \n",
            "2  OFF-LA-10000240  Office Supplies       Labels   \n",
            "3  FUR-TA-10000577        Furniture       Tables   \n",
            "4  OFF-ST-10000760  Office Supplies      Storage   \n",
            "\n",
            "                                        Product Name     Sales Quantity  \\\n",
            "0                  Bush Somerset Collection Bookcase  261.9600        2   \n",
            "1  Hon Deluxe Fabric Upholstered Stacking Chairs,...  731.9400        3   \n",
            "2  Self-Adhesive Address Labels for Typewriters b...   14.6200        2   \n",
            "3      Bretford CR4500 Series Slim Rectangular Table  957.5775        5   \n",
            "4                     Eldon Fold 'N Roll Cart System   22.3680        2   \n",
            "\n",
            "  Discount    Profit  \n",
            "0     0.00   41.9136  \n",
            "1     0.00  219.5820  \n",
            "2     0.00    6.8714  \n",
            "3     0.45 -383.0310  \n",
            "4     0.20    2.5164  \n",
            "\n",
            "[5 rows x 23 columns]\n",
            "Index(['Row ID', 'Order ID', 'Order Date', 'Year', 'Month', 'Day', 'Ship Mode',\n",
            "       'Customer ID', 'Customer Name', 'Segment', 'Country', 'City', 'State',\n",
            "       'Postal Code', 'Region', 'Product ID', 'Category', 'Sub-Category',\n",
            "       'Product Name', 'Sales', 'Quantity', 'Discount', 'Profit'],\n",
            "      dtype='object')\n"
          ]
        }
      ]
    },
    {
      "cell_type": "code",
      "source": [
        "target_column = 'Segment'"
      ],
      "metadata": {
        "id": "kSoDNRwBQOG2"
      },
      "execution_count": 54,
      "outputs": []
    },
    {
      "cell_type": "markdown",
      "source": [
        "3.Hapus kolom yang tidak relevan (ID, Nama, dll)"
      ],
      "metadata": {
        "id": "Qg5OIk6RPVbk"
      }
    },
    {
      "cell_type": "code",
      "source": [
        "df = df.drop(['Row ID', 'Order ID', 'Customer ID', 'Customer Name', 'Order Date',\n",
        "              'Ship Date', 'Product ID', 'Product Name', 'Postal Code'], axis=1, errors='ignore')"
      ],
      "metadata": {
        "id": "SCV6gq3JPY8J"
      },
      "execution_count": 52,
      "outputs": []
    },
    {
      "cell_type": "markdown",
      "source": [
        "4.Tangani data kategorikal"
      ],
      "metadata": {
        "id": "cwc7903DP-IT"
      }
    },
    {
      "cell_type": "code",
      "source": [
        "label_encoders = {}\n",
        "for col in df.select_dtypes(include=['object']).columns:\n",
        "    if col != target_column:\n",
        "        le = LabelEncoder()\n",
        "        df[col] = le.fit_transform(df[col])\n",
        "        label_encoders[col] = le\n",
        "        print (df.head())"
      ],
      "metadata": {
        "id": "2hsP5baAQBnq"
      },
      "execution_count": 56,
      "outputs": []
    },
    {
      "cell_type": "markdown",
      "source": [
        "5.pisahkan fitur dan targer"
      ],
      "metadata": {
        "id": "2nqBntJXQV1n"
      }
    },
    {
      "cell_type": "code",
      "source": [
        "X = df.drop(target_column, axis=1)\n",
        "y = df[target_column]\n"
      ],
      "metadata": {
        "id": "3UP27SpZQcLA"
      },
      "execution_count": 57,
      "outputs": []
    },
    {
      "cell_type": "markdown",
      "source": [
        "6.normalisasi"
      ],
      "metadata": {
        "id": "PrfWIFJTQfok"
      }
    },
    {
      "cell_type": "code",
      "source": [
        "scaler = StandardScaler()\n",
        "X_scaled = scaler.fit_transform(X)\n"
      ],
      "metadata": {
        "id": "4WcfUNqQQijn"
      },
      "execution_count": 58,
      "outputs": []
    },
    {
      "cell_type": "markdown",
      "source": [
        "7.split data"
      ],
      "metadata": {
        "id": "dIv5edpuQl7F"
      }
    },
    {
      "cell_type": "code",
      "source": [
        "X_train, X_test, y_train, y_test = train_test_split(X_scaled, y, test_size=0.3, random_state=42)"
      ],
      "metadata": {
        "id": "Oq2zmqL1QpZS"
      },
      "execution_count": 59,
      "outputs": []
    },
    {
      "cell_type": "markdown",
      "source": [
        "8.latih model svm"
      ],
      "metadata": {
        "id": "uEart2fzQwpc"
      }
    },
    {
      "cell_type": "code",
      "source": [
        "model = SVC(kernel='linear')  # bisa juga 'rbf', 'poly', dsb\n",
        "model.fit(X_train, y_train)\n",
        "print (df.head())"
      ],
      "metadata": {
        "colab": {
          "base_uri": "https://localhost:8080/"
        },
        "id": "XAG3KQXXQ00Z",
        "outputId": "4848cbb8-6e4c-427f-ac3e-93e62481995d"
      },
      "execution_count": 61,
      "outputs": [
        {
          "output_type": "stream",
          "name": "stdout",
          "text": [
            "   Year  Month  Day  Ship Mode    Segment  Country  City  State  Region  \\\n",
            "0  2016      9    8          2   Consumer        0   194     15       2   \n",
            "1  2016      9    8          2   Consumer        0   194     15       2   \n",
            "2  2016      6   12          2  Corporate        0   266      3       3   \n",
            "3  2015     10   11          3   Consumer        0   153      8       2   \n",
            "4  2015     10   11          3   Consumer        0   153      8       2   \n",
            "\n",
            "   Category  Sub-Category     Sales  Quantity  Discount    Profit  \n",
            "0         0             4  261.9600         2      0.00   41.9136  \n",
            "1         0             5  731.9400         3      0.00  219.5820  \n",
            "2         1            10   14.6200         2      0.00    6.8714  \n",
            "3         0            16  957.5775         5      0.45 -383.0310  \n",
            "4         1            14   22.3680         2      0.20    2.5164  \n"
          ]
        }
      ]
    },
    {
      "cell_type": "markdown",
      "source": [
        "9.evaluasi"
      ],
      "metadata": {
        "id": "9qlUTZMFQ_n-"
      }
    },
    {
      "cell_type": "code",
      "source": [
        "y_pred = model.predict(X_test)\n",
        "print(\"Accuracy:\", accuracy_score(y_test, y_pred))\n",
        "print(\"Classification Report:\\n\", classification_report(y_test, y_pred))"
      ],
      "metadata": {
        "colab": {
          "base_uri": "https://localhost:8080/"
        },
        "id": "vK8EU9dNRCv-",
        "outputId": "3466371b-325d-4e0a-93d0-b6c4b5dd2c45"
      },
      "execution_count": 64,
      "outputs": [
        {
          "output_type": "stream",
          "name": "stdout",
          "text": [
            "Accuracy: 0.513837945981994\n",
            "Classification Report:\n",
            "               precision    recall  f1-score   support\n",
            "\n",
            "    Consumer       0.51      1.00      0.68      1541\n",
            "   Corporate       0.00      0.00      0.00       893\n",
            " Home Office       0.00      0.00      0.00       565\n",
            "\n",
            "    accuracy                           0.51      2999\n",
            "   macro avg       0.17      0.33      0.23      2999\n",
            "weighted avg       0.26      0.51      0.35      2999\n",
            "\n"
          ]
        },
        {
          "output_type": "stream",
          "name": "stderr",
          "text": [
            "/usr/local/lib/python3.11/dist-packages/sklearn/metrics/_classification.py:1565: UndefinedMetricWarning: Precision is ill-defined and being set to 0.0 in labels with no predicted samples. Use `zero_division` parameter to control this behavior.\n",
            "  _warn_prf(average, modifier, f\"{metric.capitalize()} is\", len(result))\n",
            "/usr/local/lib/python3.11/dist-packages/sklearn/metrics/_classification.py:1565: UndefinedMetricWarning: Precision is ill-defined and being set to 0.0 in labels with no predicted samples. Use `zero_division` parameter to control this behavior.\n",
            "  _warn_prf(average, modifier, f\"{metric.capitalize()} is\", len(result))\n",
            "/usr/local/lib/python3.11/dist-packages/sklearn/metrics/_classification.py:1565: UndefinedMetricWarning: Precision is ill-defined and being set to 0.0 in labels with no predicted samples. Use `zero_division` parameter to control this behavior.\n",
            "  _warn_prf(average, modifier, f\"{metric.capitalize()} is\", len(result))\n"
          ]
        }
      ]
    }
  ]
}